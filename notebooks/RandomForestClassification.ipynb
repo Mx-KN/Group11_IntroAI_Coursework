{
 "cells": [
  {
   "cell_type": "markdown",
   "id": "1b64d93f-1b1b-44b0-80cc-5dc7424cb3df",
   "metadata": {},
   "source": [
    "# Random Forest Classification"
   ]
  },
  {
   "cell_type": "markdown",
   "id": "d8aa4e4b-294d-4fbb-9327-bc166f5ca5f8",
   "metadata": {},
   "source": [
    "Random forest classification is a modified tree learning algorithm.\n",
    "\n",
    "Hyperparameters:\n",
    "\n",
    "- Number of trees used\n",
    "- number of features\n",
    "- number of samples --> default of which is the training set"
   ]
  },
  {
   "cell_type": "code",
   "execution_count": 53,
   "id": "07f18842-1558-4653-9ee0-ce7bd7868959",
   "metadata": {},
   "outputs": [
    {
     "name": "stdout",
     "output_type": "stream",
     "text": [
      "Loading data...\n",
      "Data loaded successfully from {file_path}\n",
      "                           Date          Open          High           Low  \\\n",
      "0     2014-09-17 00:00:00+00:00    465.864014    468.174011    452.421997   \n",
      "1     2014-09-18 00:00:00+00:00    456.859985    456.859985    413.104004   \n",
      "2     2014-09-19 00:00:00+00:00    424.102997    427.834991    384.532013   \n",
      "3     2014-09-20 00:00:00+00:00    394.673004    423.295990    389.882996   \n",
      "4     2014-09-21 00:00:00+00:00    408.084991    412.425995    393.181000   \n",
      "...                         ...           ...           ...           ...   \n",
      "3726  2024-11-29 00:00:00+00:00  95653.953125  98693.171875  95407.882812   \n",
      "3727  2024-11-30 00:00:00+00:00  97468.812500  97499.343750  96144.218750   \n",
      "3728  2024-12-01 00:00:00+00:00  96461.335938  97888.125000  95770.187500   \n",
      "3729  2024-12-02 00:00:00+00:00  97276.007812  98152.601562  94482.867188   \n",
      "3730  2024-12-03 00:00:00+00:00  95855.929688  96263.234375  93645.632812   \n",
      "\n",
      "             Close       Volume  Dividends  Stock Splits  \n",
      "0       457.334015     21056800        0.0           0.0  \n",
      "1       424.440002     34483200        0.0           0.0  \n",
      "2       394.795990     37919700        0.0           0.0  \n",
      "3       408.903992     36863600        0.0           0.0  \n",
      "4       398.821014     26580100        0.0           0.0  \n",
      "...            ...          ...        ...           ...  \n",
      "3726  97461.523438  54968682476        0.0           0.0  \n",
      "3727  96449.054688  31634227866        0.0           0.0  \n",
      "3728  97279.789062  36590695296        0.0           0.0  \n",
      "3729  95865.304688  72680784305        0.0           0.0  \n",
      "3730  95926.898438  66657738752        0.0           0.0  \n",
      "\n",
      "[3731 rows x 8 columns]\n"
     ]
    }
   ],
   "source": [
    "import pandas as pd\n",
    "import numpy as np\n",
    "import os\n",
    "from pprint import pprint\n",
    "\n",
    "from sklearn.ensemble import RandomForestClassifier\n",
    "from sklearn.preprocessing import LabelEncoder\n",
    "from sklearn.model_selection import cross_validate\n",
    "from sklearn.model_selection import train_test_split\n",
    "from sklearn.metrics import accuracy_score\n",
    "\n",
    "def run_classifier(file_path, threshold=0.6):\n",
    "    print(\"Loading data...\")\n",
    "    try:\n",
    "        data = pd.read_csv(file_path)\n",
    "        print(\"Data loaded successfully from {file_path}\")\n",
    "        print(data)\n",
    "    except Exception as e:\n",
    "        print(\"Error loading data: {e}\")\n",
    "        return\n",
    "\n",
    "run_classifier(\"C:\\\\btc_usd.csv\")"
   ]
  },
  {
   "cell_type": "code",
   "execution_count": null,
   "id": "02d663a0-93b8-4909-8b28-0478b447a03f",
   "metadata": {},
   "outputs": [],
   "source": []
  },
  {
   "cell_type": "code",
   "execution_count": null,
   "id": "6167b868-4e65-4c17-a305-c09ff24e4f34",
   "metadata": {},
   "outputs": [],
   "source": []
  },
  {
   "cell_type": "code",
   "execution_count": null,
   "id": "14f89c51-2df9-4cd8-bb01-29935305cbae",
   "metadata": {},
   "outputs": [],
   "source": []
  }
 ],
 "metadata": {
  "kernelspec": {
   "display_name": "Python 3 (ipykernel)",
   "language": "python",
   "name": "python3"
  },
  "language_info": {
   "codemirror_mode": {
    "name": "ipython",
    "version": 3
   },
   "file_extension": ".py",
   "mimetype": "text/x-python",
   "name": "python",
   "nbconvert_exporter": "python",
   "pygments_lexer": "ipython3",
   "version": "3.12.4"
  }
 },
 "nbformat": 4,
 "nbformat_minor": 5
}
