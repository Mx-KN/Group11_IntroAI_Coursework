{
 "cells": [
  {
   "cell_type": "markdown",
   "id": "1b64d93f-1b1b-44b0-80cc-5dc7424cb3df",
   "metadata": {},
   "source": [
    "# Random Forest Classification"
   ]
  },
  {
   "cell_type": "markdown",
   "id": "d8aa4e4b-294d-4fbb-9327-bc166f5ca5f8",
   "metadata": {},
   "source": [
    "Random forest classification is a modified tree learning algorithm.\n",
    "\n",
    "Hyperparameters:\n",
    "\n",
    "- Number of trees used\n",
    "- number of features\n",
    "- number of samples --> default of which is the training set"
   ]
  },
  {
   "cell_type": "code",
   "execution_count": 137,
   "id": "07f18842-1558-4653-9ee0-ce7bd7868959",
   "metadata": {},
   "outputs": [
    {
     "name": "stdout",
     "output_type": "stream",
     "text": [
      "Loading data...\n",
      "Data loaded successfully from {file_path}\n",
      "Training samples: 2984 Testing samples:  747\n",
      "Error loading data: {e}\n"
     ]
    }
   ],
   "source": [
    "import pandas as pd\n",
    "import numpy as np\n",
    "import os\n",
    "from pprint import pprint\n",
    "\n",
    "from sklearn.ensemble import RandomForestClassifier\n",
    "from sklearn.model_selection import cross_validate\n",
    "from sklearn.model_selection import train_test_split\n",
    "from sklearn.metrics import accuracy_score\n",
    "import matplotlib.pyplot as plt\n",
    "from matplotlib import style\n",
    "\n",
    "def run_classifier(file_path, threshold=0.6):\n",
    "    print(\"Loading data...\")\n",
    "    try:\n",
    "        data = pd.read_csv(file_path)\n",
    "        print(\"Data loaded successfully from {file_path}\")\n",
    "        #print(data)\n",
    "\n",
    "        data.columns = ['Date','Open', 'High', 'Low', 'Close', 'Volume', 'Dividends', 'Stock Splits']\n",
    "\n",
    "        result = []\n",
    "        for x in data.columns:\n",
    "            if x != 'Close':\n",
    "                result.append(x)\n",
    "\n",
    "        X = data[result].values\n",
    "        y = data['Close'].values\n",
    "\n",
    "        Ran_Forest = RandomForestClassifier(n_estimators = 100, criterion =\"entropy\")\n",
    "\n",
    "        X_train, X_test, y_train, y_test = train_test_split(X, y, test_size = 0.2, random_state = 42)\n",
    "        print(\"Training samples:\" ,len(X_train), \"Testing samples: \", len(X_test))\n",
    "\n",
    "        Ran_Forest.fit(X_train,y_train)\n",
    "        y_pred = Ran_Forest.predict(X_test)\n",
    "\n",
    "        accuracy = accuracy_score(y_pred, y_test)\n",
    "        print(\"Accuracy: \",accuracy*100, \"%\")\n",
    "\n",
    "    except Exception as e:\n",
    "        print(\"Error loading data: {e}\")\n",
    "        return\n",
    "\n",
    "run_classifier(\"C:\\\\btc_usd.csv\")"
   ]
  },
  {
   "cell_type": "code",
   "execution_count": null,
   "id": "3b3e7590-baf0-4f18-853a-edbb8417abde",
   "metadata": {},
   "outputs": [],
   "source": []
  }
 ],
 "metadata": {
  "kernelspec": {
   "display_name": "Python 3 (ipykernel)",
   "language": "python",
   "name": "python3"
  },
  "language_info": {
   "codemirror_mode": {
    "name": "ipython",
    "version": 3
   },
   "file_extension": ".py",
   "mimetype": "text/x-python",
   "name": "python",
   "nbconvert_exporter": "python",
   "pygments_lexer": "ipython3",
   "version": "3.12.4"
  }
 },
 "nbformat": 4,
 "nbformat_minor": 5
}
