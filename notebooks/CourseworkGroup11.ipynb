{
 "cells": [
  {
   "cell_type": "markdown",
   "id": "83195b7d-f22b-405f-be8e-5632bb410782",
   "metadata": {},
   "source": [
    "# Coursework For Group 11\n",
    "Bendeguz Kudor; Khadija Nawaz; Kia Poore; Martins Pigoznis"
   ]
  },
  {
   "cell_type": "markdown",
   "id": "f793ba55-7fbf-43cb-866a-efedb285e326",
   "metadata": {},
   "source": [
    "### What is your dataset, problem domain?\n",
    "\n",
    "The dataset we had chosen is a financial dataset focusing on Crypto, S&P 500, the exchange-traded fund (ETF) and the foreign exchange market (FX).\n",
    "  \n",
    "### Is your problem classification or regression?\n",
    "### Did you have any missing, corrupt or misleading data? If so, how did you cope it?\n",
    "### Have you omitted some data? If so, why?\n",
    "### Did you apply techniques to understand your dataset?\n",
    "### How did you encode the input variables?\n",
    "### What models did you use?\n",
    "### What are the criteria for selecting model performance evaluation tools?\n",
    "### What were your outputs?\n",
    "### Did you have any problems or difficulties working with the dataset?"
   ]
  },
  {
   "cell_type": "code",
   "execution_count": null,
   "id": "01759d04-7163-430b-abe2-2d991b50fd09",
   "metadata": {},
   "outputs": [],
   "source": []
  }
 ],
 "metadata": {
  "kernelspec": {
   "display_name": "Python 3 (ipykernel)",
   "language": "python",
   "name": "python3"
  },
  "language_info": {
   "codemirror_mode": {
    "name": "ipython",
    "version": 3
   },
   "file_extension": ".py",
   "mimetype": "text/x-python",
   "name": "python",
   "nbconvert_exporter": "python",
   "pygments_lexer": "ipython3",
   "version": "3.12.4"
  }
 },
 "nbformat": 4,
 "nbformat_minor": 5
}
