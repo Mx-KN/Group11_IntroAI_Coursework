{
 "cells": [
  {
   "cell_type": "markdown",
   "id": "1b64d93f-1b1b-44b0-80cc-5dc7424cb3df",
   "metadata": {},
   "source": [
    "# Random Forest Classification"
   ]
  },
  {
   "cell_type": "markdown",
   "id": "d8aa4e4b-294d-4fbb-9327-bc166f5ca5f8",
   "metadata": {},
   "source": [
    "Random forest classification is a modified tree learning algorithm.\n",
    "\n",
    "Hyperparameters:\n",
    "\n",
    "- Number of trees used\n",
    "- number of features\n",
    "- number of samples --> default of which is the training set"
   ]
  },
  {
   "cell_type": "code",
   "execution_count": 1,
   "id": "07f18842-1558-4653-9ee0-ce7bd7868959",
   "metadata": {},
   "outputs": [
    {
     "name": "stdout",
     "output_type": "stream",
     "text": [
      "Loading data...\n",
      "Data loaded successfully\n",
      "                        Date        Open        High         Low       Close  \\\n",
      "0  2014-09-17 00:00:00+00:00  465.864014  468.174011  452.421997  457.334015   \n",
      "1  2014-09-18 00:00:00+00:00  456.859985  456.859985  413.104004  424.440002   \n",
      "2  2014-09-19 00:00:00+00:00  424.102997  427.834991  384.532013  394.795990   \n",
      "3  2014-09-20 00:00:00+00:00  394.673004  423.295990  389.882996  408.903992   \n",
      "4  2014-09-21 00:00:00+00:00  408.084991  412.425995  393.181000  398.821014   \n",
      "\n",
      "     Volume  Dividends  Stock Splits  \n",
      "0  21056800        0.0           0.0  \n",
      "1  34483200        0.0           0.0  \n",
      "2  37919700        0.0           0.0  \n",
      "3  36863600        0.0           0.0  \n",
      "4  26580100        0.0           0.0  \n"
     ]
    }
   ],
   "source": [
    "import pandas as pd\n",
    "import numpy as np\n",
    "import os\n",
    "\n",
    "from sklearn.ensemble import RandomForestClassifier\n",
    "from sklearn.model_selection import train_test_split\n",
    "from sklearn.metrics import accuracy_score\n",
    "from sklearn.metrics import confusion_matrix, ConfusionMatrixDisplay\n",
    "import matplotlib.pyplot as plt\n",
    "import seaborn as sns\n",
    "\n",
    "# Setting the data up from file and reading the beginning\n",
    "print(\"Loading data...\")\n",
    "data = pd.read_csv(\"C:\\\\btc_usd.csv\")\n",
    "print(\"Data loaded successfully\")\n",
    "print(data.head())"
   ]
  },
  {
   "cell_type": "code",
   "execution_count": 3,
   "id": "30bb1f68-5c28-4d11-aeda-ec8311ed400a",
   "metadata": {},
   "outputs": [
    {
     "name": "stdout",
     "output_type": "stream",
     "text": [
      "Rows with invalid date format: 0\n"
     ]
    }
   ],
   "source": [
    "# Convert 'Date' to datetime with timezone information preserved\n",
    "data['Date'] = pd.to_datetime(data['Date'], errors='coerce')\n",
    "\n",
    "# error check\n",
    "print(\"Rows with invalid date format:\", data['Date'].isna().sum())\n",
    "\n",
    "# Set 'Date' as the index\n",
    "data.set_index(\"Date\", inplace=True)\n",
    "\n",
    "# percentage change\n",
    "data['Percentage_Change'] = data['Close'].pct_change()\n",
    "data['Target'] = np.sign(data['Percentage_Change']).shift(-1)\n",
    "data.dropna(inplace=True) # removes missing values that occur\n",
    "# 1 for positive, -1 for negative \n",
    "data['Label'] = 0\n",
    "data.loc[data['Percentage_Change'] > 0, 'Label'] = 1\n",
    "data.loc[data['Percentage_Change'] < 0, 'Label'] = -1\n",
    "\n",
    "# Features and the target\n",
    "features = ['Open', 'High', 'Low', 'Close', 'Volume']\n",
    "X = data[features]\n",
    "y = data['Label']"
   ]
  },
  {
   "cell_type": "code",
   "execution_count": 10,
   "id": "e8de5b11-34bb-49da-884c-7ce5749e74b0",
   "metadata": {},
   "outputs": [],
   "source": [
    "#Split the data into training and test data.\n",
    "X_train, X_test, y_train, y_test = train_test_split(X, y, test_size=0.2, random_state=42)\n",
    "\n",
    "# Initialize the Random Forest classifier\n",
    "rand_Forest = RandomForestClassifier(n_estimators=100, random_state=42)\n",
    "\n",
    "# Train the model\n",
    "rand_Forest.fit(X_train, y_train)\n",
    "\n",
    "y_pred = rand_Forest.predict(X_test)"
   ]
  },
  {
   "cell_type": "code",
   "execution_count": 11,
   "id": "f787302d-0068-46a8-bf07-688d23c2e028",
   "metadata": {},
   "outputs": [
    {
     "name": "stdout",
     "output_type": "stream",
     "text": [
      "The accuracy of the model is:  0.7627345844504021\n"
     ]
    },
    {
     "data": {
      "image/png": "[encoded data removed]",
      "text/plain": [
       "<Figure size 640x480 with 2 Axes>"
      ]
     },
     "metadata": {},
     "output_type": "display_data"
    }
   ],
   "source": [
    "# Accuracy score\n",
    "print(\"The accuracy of the model is: \", accuracy_score(y_test, y_pred))\n",
    "\n",
    "# Confusion matrix\n",
    "cm = confusion_matrix(y_test, y_pred)\n",
    "sns.heatmap(cm, annot=True, fmt='d', cmap='Blues', xticklabels=['Down', 'Up'], yticklabels=['Down', 'Up'])\n",
    "plt.xlabel('Predicted')\n",
    "plt.ylabel('Actual')\n",
    "plt.title('Confusion Matrix')\n",
    "plt.show()"
   ]
  },
  {
   "cell_type": "markdown",
   "id": "8057ad85-0142-4d93-bb8b-c26e32a5b1e6",
   "metadata": {},
   "source": [
    "\n",
    "### Comments\n",
    "\n",
    "Forest Classification uses columns from Date to Close as the last two columns Dividends and Stock splits have no data.\n",
    "\n",
    "Testing/training split is 25/75 respectively.\n",
    "\n",
    "Fit classifier to the training data"
   ]
  },
  {
   "cell_type": "code",
   "execution_count": null,
   "id": "bee6a70c-a273-4a74-b32c-d495a3adecb4",
   "metadata": {},
   "outputs": [],
   "source": []
  },
  {
   "cell_type": "code",
   "execution_count": null,
   "id": "0750182c-8abf-42bb-8ada-0147be9d0350",
   "metadata": {},
   "outputs": [],
   "source": []
  }
 ],
 "metadata": {
  "kernelspec": {
   "display_name": "Python 3 (ipykernel)",
   "language": "python",
   "name": "python3"
  },
  "language_info": {
   "codemirror_mode": {
    "name": "ipython",
    "version": 3
   },
   "file_extension": ".py",
   "mimetype": "text/x-python",
   "name": "python",
   "nbconvert_exporter": "python",
   "pygments_lexer": "ipython3",
   "version": "3.12.4"
  }
 },
 "nbformat": 4,
 "nbformat_minor": 5
}
